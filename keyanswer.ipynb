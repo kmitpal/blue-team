{
 "cells": [
  {
   "cell_type": "code",
   "execution_count": 2,
   "id": "f4b628cc",
   "metadata": {},
   "outputs": [
    {
     "name": "stdout",
     "output_type": "stream",
     "text": [
      "P K e y 2 0 3 0 1 1 5 b d 3 8 4 8 5 e 8 b 3 5 2 f 6 0 f 2 b 9 0 f 8 a 9 3 2 a d 0 e 9 5\n"
     ]
    }
   ],
   "source": [
    "import re\n",
    "with open(\"C:/Users/Vamshidhar/OneDrive - White Cap/Documents/ps2/key.txt\") as file:\n",
    "    data=file.read().replace('\\n',' ')\n",
    "key=re.findall(\"[a-zA-Z0-9]\",data)\n",
    "print(*key)"
   ]
  }
 ],
 "metadata": {
  "kernelspec": {
   "display_name": "Python 3 (ipykernel)",
   "language": "python",
   "name": "python3"
  },
  "language_info": {
   "codemirror_mode": {
    "name": "ipython",
    "version": 3
   },
   "file_extension": ".py",
   "mimetype": "text/x-python",
   "name": "python",
   "nbconvert_exporter": "python",
   "pygments_lexer": "ipython3",
   "version": "3.10.6"
  }
 },
 "nbformat": 4,
 "nbformat_minor": 5
}
